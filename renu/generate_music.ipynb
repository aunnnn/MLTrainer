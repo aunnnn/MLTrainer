{
 "cells": [
  {
   "cell_type": "code",
   "execution_count": 22,
   "metadata": {},
   "outputs": [
    {
     "name": "stdout",
     "output_type": "stream",
     "text": [
      "{0: 'Q', 1: ' ', 2: 'n', 3: 'h', 4: 'X', 5: ':', 6: 'A', 7: '[', 8: 'Z', 9: 'H', 10: 'o', 11: '~', 12: 'J', 13: 'G', 14: 'a', 15: 'S', 16: \"'\", 17: 'R', 18: '6', 19: 'F', 20: '>', 21: 'E', 22: '@', 23: '.', 24: '3', 25: 'O', 26: '\"', 27: ')', 28: 'q', 29: 'v', 30: 'w', 31: 'L', 32: 'Y', 33: 'M', 34: 'g', 35: '/', 36: 'c', 37: 'T', 38: '?', 39: '1', 40: 's', 41: '^', 42: 'V', 43: '8', 44: 'x', 45: '7', 46: 't', 47: '\\n', 48: 'l', 49: 'D', 50: 'z', 51: 'b', 52: 'y', 53: 'k', 54: ']', 55: '!', 56: 'K', 57: 'p', 58: 'B', 59: '<', 60: 'C', 61: 'P', 62: 'r', 63: '\\t', 64: 'm', 65: 'I', 66: 'e', 67: '}', 68: '*', 69: '4', 70: '{', 71: '&', 72: '9', 73: '_', 74: '2', 75: 'j', 76: 'N', 77: '\\\\', 78: '=', 79: '5', 80: '(', 81: 'f', 82: 'u', 83: '+', 84: 'U', 85: ',', 86: '#', 87: 'i', 88: '-', 89: '0', 90: '|', 91: 'W', 92: 'd'}\n"
     ]
    }
   ],
   "source": [
    "unique_chars=set()\n",
    "\n",
    "f = open('../pa4Data/train.txt', \"r\")\n",
    "line = f.readline()\n",
    "while line:\n",
    "    for char in line:\n",
    "        unique_chars.add(char)\n",
    "    line = f.readline()\n",
    "\n",
    "f.close()\n",
    "    \n",
    "#print(unique_chars)\n",
    "dictionary = {}\n",
    "char_to_index = {}\n",
    "i=0\n",
    "\n",
    "for char in unique_chars:\n",
    "    dictionary[char]=i\n",
    "    char_to_index[i]=char\n",
    "    i+=1\n",
    "#print(dictionary)\n",
    "print(char_to_index)\n",
    "\n",
    "\n",
    "test = torch.zeros(93)\n",
    "test[55]=1.0"
   ]
  },
  {
   "cell_type": "code",
   "execution_count": 24,
   "metadata": {},
   "outputs": [
    {
     "name": "stdout",
     "output_type": "stream",
     "text": [
      "55\n"
     ]
    }
   ],
   "source": [
    "import random\n",
    "import Dataloader\n",
    "\n",
    "\n",
    "def softmax_with_temp(linear_output,):\n",
    "    return F.softmax(y_t / temperature, dim=1)\n",
    "    \n",
    "\n",
    "def softmax_to_hotcode(tensor):\n",
    "    '''\n",
    "    take in softmax and determine char number\n",
    "    '''\n",
    "    rand = random.uniform(0, 1)\n",
    "    N = tensor.shape()[-1]\n",
    "    output = torch.zeros(N)\n",
    "    \n",
    "    total=0.0\n",
    "    for i,t in enumerate(tensor):\n",
    "        total+=t.numpy()\n",
    "        if total>=rand:\n",
    "            output[i]=1.0\n",
    "            return output\n",
    "        \n",
    "\n",
    "\n"
   ]
  },
  {
   "cell_type": "code",
   "execution_count": null,
   "metadata": {},
   "outputs": [],
   "source": []
  },
  {
   "cell_type": "code",
   "execution_count": null,
   "metadata": {},
   "outputs": [],
   "source": []
  }
 ],
 "metadata": {
  "kernelspec": {
   "display_name": "Python 3",
   "language": "python",
   "name": "python3"
  },
  "language_info": {
   "codemirror_mode": {
    "name": "ipython",
    "version": 3
   },
   "file_extension": ".py",
   "mimetype": "text/x-python",
   "name": "python",
   "nbconvert_exporter": "python",
   "pygments_lexer": "ipython3",
   "version": "3.6.8"
  }
 },
 "nbformat": 4,
 "nbformat_minor": 2
}
