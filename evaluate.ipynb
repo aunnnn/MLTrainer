{
 "cells": [
  {
   "cell_type": "code",
   "execution_count": null,
   "metadata": {},
   "outputs": [],
   "source": [
    "import matplotlib.pyplot as plt\n",
    "import pandas as pd\n",
    "\n",
    "def plot_losses_from_files(model_name,train_loss_file,val_loss_file,start):\n",
    "    T = pd.read_csv(train_loss_file)\n",
    "    V = pd.read_csv(val_loss_file)\n",
    "    \n",
    "    #print(list(T['loss']))\n",
    "    #print(V['loss'])\n",
    "    \n",
    "    y = range(len(T))\n",
    "    train_loss = list(T['loss'])\n",
    "    val_loss = list(V['loss'])\n",
    "    #val_loss = val_loss[1:]\n",
    "    \n",
    "    if len(val_loss) < len(train_loss) and val_loss:\n",
    "        val_loss.append(val_loss[-1])\n",
    "    \n",
    "    if train_loss:\n",
    "        plt.plot(y[start:],train_loss[start:])\n",
    "    if val_loss:\n",
    "        plt.plot(y[start:],val_loss[start:])\n",
    "        \n",
    "    plt.legend([\"train loss\", \"validation loss\"])\n",
    "    plt.xlabel(\"# of minibatches\")\n",
    "    plt.ylabel(\"loss value\")\n",
    "    plt.title(model_name + \" performance\")\n",
    "    plt.show()\n",
    "    #plt.savefig(\"./{}/{}.png\".format(model_name,\"losses_plot\"), dpi=80)\n",
    "\n",
    "def plot_lossed_from_df(model_name,V,T,start):\n",
    "    y = T['minibatch']\n",
    "    train_loss = list(T['loss'])\n",
    "    val_loss = list(V['loss'])\n",
    "    #val_loss = val_loss[1:]\n",
    "    \n",
    "    if len(val_loss) < len(train_loss) and val_loss:\n",
    "        val_loss.append(val_loss[-1])\n",
    "    \n",
    "    if train_loss:\n",
    "        plt.plot(y[start:],train_loss[start:])\n",
    "    if val_loss:\n",
    "        plt.plot(y[start:],val_loss[start:])\n",
    "    plt.legend([\"train loss\", \"validation loss\"])\n",
    "    plt.xlabel(\"# of minibatches\")\n",
    "    plt.ylabel(\"loss value\")\n",
    "    plt.title(\"Performance of the Custom Model\")\n",
    "    plt.show()\n",
    "    \n",
    "    \n",
    "model_name=\"lstm\"\n",
    "val_loss_file = \"./output/{}/validation_loss.csv\".format(model_name)\n",
    "train_loss_file = \"./output/{}/train_loss.csv\".format(model_name)\n",
    "scores_file = \"./output/{}/scores.csv\".format(model_name)\n",
    "\n",
    "plot_losses_from_files(model_name,train_loss_file,val_loss_file,0)"
   ]
  }
 ],
 "metadata": {
  "kernelspec": {
   "display_name": "Python 3",
   "language": "python",
   "name": "python3"
  },
  "language_info": {
   "codemirror_mode": {
    "name": "ipython",
    "version": 3
   },
   "file_extension": ".py",
   "mimetype": "text/x-python",
   "name": "python",
   "nbconvert_exporter": "python",
   "pygments_lexer": "ipython3",
   "version": "3.7.1"
  }
 },
 "nbformat": 4,
 "nbformat_minor": 2
}
