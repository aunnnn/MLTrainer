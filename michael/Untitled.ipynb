{
 "cells": [
  {
   "cell_type": "code",
   "execution_count": 1,
   "metadata": {
    "collapsed": true
   },
   "outputs": [],
   "source": [
    "import torch\n",
    "from torch.utils import data\n",
    "import os"
   ]
  },
  {
   "cell_type": "code",
   "execution_count": 22,
   "metadata": {},
   "outputs": [],
   "source": [
    "filename = \"../pa4Data/train.txt\"\n",
    "with open(filename) as f:\n",
    "    text_blob = \"\"\n",
    "    for line in f:\n",
    "        if line.startswith(\"<start>\"):\n",
    "            line = \"%\\n\"\n",
    "        elif line.startswith(\"<end>\"):\n",
    "            line = \"`\\n\"\n",
    "        text_blob += line\n",
    "    chars = set(text_blob)\n",
    "    char_index = {char: i for i, char in enumerate(sorted(chars))}\n",
    "    # Sort so that it's interpretable"
   ]
  },
  {
   "cell_type": "code",
   "execution_count": 23,
   "metadata": {
    "collapsed": true
   },
   "outputs": [],
   "source": [
    "class PA4Dataset(data.DataLoader):\n",
    "    \n",
    "    def __init__(self, filename, character_index, chunk_size=100):        \n",
    "        self.character_index = character_index\n",
    "        self.filename = filename\n",
    "        \n",
    "        self.text_chunks = PA4Dataset.__load_text_chunks(filename, chunk_size)\n",
    "        self.num_chunks = len(self.text_chunks)\n",
    "        \n",
    "    def __len__(self):\n",
    "        return self.num_chunks\n",
    "    \n",
    "    def __getitem__(self, index):            \n",
    "        i_chunk = index\n",
    "        cur_chunk = self.text_chunks[i_chunk]\n",
    "        input_tensors = torch.zeros(len(cur_chunk), len(self.character_index))\n",
    "        label_tensors = torch.zeros(len(cur_chunk), len(self.character_index))\n",
    "        \n",
    "        for i in range(len(cur_chunk)-1):\n",
    "            char = cur_chunk[i]\n",
    "            next_char = cur_chunk[i+1]\n",
    "            \n",
    "            input_tensors[i, self.character_index[char]] = 1\n",
    "            label_tensors[i, self.character_index[next_char]] = 1\n",
    "                        \n",
    "        # How to handle the last chunk? Currently just all zeros.\n",
    "        if i_chunk == self.num_chunks - 1:\n",
    "            pass\n",
    "        else:\n",
    "            # Last char will have first char of next chunk\n",
    "            last_i = len(cur_chunk) - 1\n",
    "            \n",
    "            cur_chunk_last_char = cur_chunk[last_i]\n",
    "            next_chunk_first_char = self.text_chunks[i_chunk+1][0]\n",
    "            \n",
    "            input_tensors[last_i, self.character_index[cur_chunk[last_i]]] = 1\n",
    "            label_tensors[last_i, self.character_index[next_chunk_first_char]] = 1\n",
    "                \n",
    "        return (input_tensors, label_tensors)\n",
    "        \n",
    "    @staticmethod\n",
    "    def __load_text_chunks(filename, chunk_size):\n",
    "        \"\"\"\n",
    "        Returns a list of strings each with length chunk_size\n",
    "        \"\"\"\n",
    "        text_chunks = []\n",
    "        reset_flags = []\n",
    "        with open(filename) as f:\n",
    "            text_blob = \"\"\n",
    "            for line in f:\n",
    "                if line.startswith(\"<start>\"):\n",
    "                    line = \"%\\n\"\n",
    "                elif line.startswith(\"<end>\"):\n",
    "                    line = \"`\\n\"\n",
    "                text_blob += line\n",
    "            i = 0\n",
    "            while i < len(text_blob):\n",
    "                line = text_blob[i: i+chunk_size]\n",
    "                if \"`\" in line:\n",
    "                    print(line)\n",
    "                text_chunks.append(text_blob[i:i+chunk_size])\n",
    "                i += chunk_size\n",
    "            return text_chunks\n",
    "        raise RuntimeError(\"Can't read file\")"
   ]
  },
  {
   "cell_type": "code",
   "execution_count": 41,
   "metadata": {},
   "outputs": [],
   "source": [
    "\"\"\"\n",
    "Returns a list of strings each with length chunk_size\n",
    "\"\"\"\n",
    "chunk_size = 100\n",
    "text_chunks = []\n",
    "reset_flags = []\n",
    "with open(filename) as f:\n",
    "    text_blob = \"\"\n",
    "    for line in f:\n",
    "        if line.startswith(\"<start>\"):\n",
    "            line = \"%\\n\"\n",
    "        elif line.startswith(\"<end>\"):\n",
    "            line = \"`\\n\"\n",
    "        text_blob += line\n",
    "    i = 0\n",
    "    while i < len(text_blob):\n",
    "        line = text_blob[i: i+chunk_size]\n",
    "        # chunk ends early with \"`\\n\" as a signal for end of the character\n",
    "        if \"`\" in line and line.index('`') < chunk_size - 1:\n",
    "            text_chunks.append(text_blob[i: i + line.index('`') + 2])\n",
    "            # signal the reset of the hidden layer at the end of the chunk training\n",
    "            # reset flags also signal the dataloader to pad 0 at the end of the sequence\n",
    "            reset_flags.append(True)\n",
    "            i = i + line.index('`') + 2\n",
    "            continue\n",
    "        text_chunks.append(text_blob[i:i+chunk_size])\n",
    "        if \"`\" == text_blob[i + chunk_size - 2]:\n",
    "            reset_flags.append(True)\n",
    "        else:\n",
    "            reset_flags.append(False)\n",
    "        i += chunk_size"
   ]
  },
  {
   "cell_type": "code",
   "execution_count": 60,
   "metadata": {
    "collapsed": true
   },
   "outputs": [],
   "source": [
    "a = torch.ones(5, 10)"
   ]
  },
  {
   "cell_type": "code",
   "execution_count": 61,
   "metadata": {},
   "outputs": [
    {
     "data": {
      "text/plain": [
       "tensor([[1., 1., 1., 1., 1., 1., 1., 1., 1., 1.],\n",
       "        [1., 1., 1., 1., 1., 1., 1., 1., 1., 1.],\n",
       "        [1., 1., 1., 1., 1., 1., 1., 1., 1., 1.],\n",
       "        [1., 1., 1., 1., 1., 1., 1., 1., 1., 1.],\n",
       "        [1., 1., 1., 1., 1., 1., 1., 1., 1., 1.],\n",
       "        [0., 0., 0., 0., 0., 0., 0., 0., 0., 0.],\n",
       "        [0., 0., 0., 0., 0., 0., 0., 0., 0., 0.],\n",
       "        [0., 0., 0., 0., 0., 0., 0., 0., 0., 0.],\n",
       "        [0., 0., 0., 0., 0., 0., 0., 0., 0., 0.],\n",
       "        [0., 0., 0., 0., 0., 0., 0., 0., 0., 0.]])"
      ]
     },
     "execution_count": 61,
     "metadata": {},
     "output_type": "execute_result"
    }
   ],
   "source": [
    "torch.cat([a, torch.zeros(5, 10)])"
   ]
  },
  {
   "cell_type": "code",
   "execution_count": null,
   "metadata": {
    "collapsed": true
   },
   "outputs": [],
   "source": []
  }
 ],
 "metadata": {
  "kernelspec": {
   "display_name": "Python 3",
   "language": "python",
   "name": "python3"
  },
  "language_info": {
   "codemirror_mode": {
    "name": "ipython",
    "version": 3
   },
   "file_extension": ".py",
   "mimetype": "text/x-python",
   "name": "python",
   "nbconvert_exporter": "python",
   "pygments_lexer": "ipython3",
   "version": "3.5.5"
  }
 },
 "nbformat": 4,
 "nbformat_minor": 2
}
