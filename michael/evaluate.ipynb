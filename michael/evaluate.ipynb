{
 "cells": [
  {
   "cell_type": "code",
   "execution_count": 1,
   "metadata": {},
   "outputs": [],
   "source": [
    "import torch\n",
    "from torch.utils import data\n",
    "import os\n",
    "from dataloader_v2 import *\n",
    "from trainer_v2 import *"
   ]
  },
  {
   "cell_type": "markdown",
   "metadata": {},
   "source": [
    "Music Generation: LSTM"
   ]
  },
  {
   "cell_type": "code",
   "execution_count": 2,
   "metadata": {},
   "outputs": [],
   "source": [
    "from lstm import *\n",
    "import numpy as np\n",
    "import torch.nn as nn\n",
    "import torch.optim as optim"
   ]
  },
  {
   "cell_type": "code",
   "execution_count": 3,
   "metadata": {},
   "outputs": [
    {
     "name": "stdout",
     "output_type": "stream",
     "text": [
      "Session: session_train_100_hiddens\n",
      "---------------\n",
      "Loading data...\n",
      "encoding <start> as \\% and <end> as \\`\n",
      "Done.\n"
     ]
    }
   ],
   "source": [
    "SESSION_NAME = \"session_train_100_hiddens\"\n",
    "PARENT_PATH_TO_SAVE_RESULT = './'\n",
    "\n",
    "print(\"Session: \" + SESSION_NAME)\n",
    "print(\"---------------\")\n",
    "\n",
    "print(\"Loading data...\")\n",
    "\n",
    "LEARNING_RATE = 0.01\n",
    "\n",
    "all_loaders, char_index, index_char = build_all_loaders('../pa4Data/', chunk_size=100, customize_loader_params={\n",
    "    'num_workers': 4,\n",
    "})\n",
    "\n",
    "print(\"Done.\")"
   ]
  },
  {
   "cell_type": "code",
   "execution_count": 4,
   "metadata": {},
   "outputs": [
    {
     "name": "stdout",
     "output_type": "stream",
     "text": [
      "\n",
      "X:1\n",
      "T: La Montfarine\n",
      "Z:Transcrit et/ou corrig? par Michel BELLON - 2005-07-24\n",
      "Z:Pour toute observat\n",
      "ion mailto:galouvielle@free.fr\n",
      "M: 4/4\n",
      "L: 1/8\n",
      "Q:1/4=186\n",
      "FGF B=AG G=AG F2F FGF {F}F2E EFE|\n",
      "{E}E2D FGF \n",
      "B=AG G=AG {F}F2F FED C2G D2E|F3 {F}F/2 ED E3/2D/2|\n",
      "EC FE E2 DC|DC C2 GD2E|F3F/2F/2 DE FD|EC B,C D2 B\n",
      ",G|\n",
      "cB =A2 FG2E|F3F GF B=A|GG =AG F2 FF|GF F/2F3/2 EE FE|\n",
      "E/2E3/2 DF GF B=A|GG =AG F/2F3/2 FF|ED C2 \n",
      "GD2E|F3F/2F/2 ED E3/2D/2|\n",
      "EC FE E2 DC|DC C2 GD2E|F3F/2F/2 DE FD|EC B,C D2 B,G|\n",
      "cB =A2 FF G=A|B3\n",
      "G2_A\n",
      " G/2G3/2-|GF/2F/2 ED F2 EB,|CD EF GB AG|\n",
      "A3A GA F2|F/2F/2F EF D3/2B,/2 B,B,|CD EF GA GF|G3B/2B/2 AB \n",
      "G2|\n",
      "GG/2G/2 FG E2 EB/2B/2|AG BA GG AB|c3c/2c3/2d f2|ed eG c2 BB|\n",
      "AB dc BG AD|E3F GF BA|GG AG F2 FF|G\n",
      "F F/2F3/2 EE FE|\n",
      "E/2E3/2 DF GF BA|GG AG F/2F3/2 FF|ED C2 GD2E|F2- F/2\n",
      "`\n",
      "~~~~~~~~~~~~~~~~~~~~~~~~~~~~\n",
      "new song started\n",
      "\n",
      "X: 2\n",
      "T:Stella splendens\n",
      "C:Livre Vermeil de Montserrat (\n",
      "`\n",
      "~~~~~~~~~~~~~~~~~~~~~~~~~~~~~~~~~~~~~~~~~\n",
      "new song started\n",
      "\n",
      "XIV?me si?cle)\n",
      "Z:Transcrit et/ou corrig? par Michel BELLON - 2005-03-27\n",
      "Z:Pour toute observation ma\n",
      "ilto:galouvielle@free.fr\n",
      "M:2/2\n",
      "L:1/4\n",
      "Q:1/4=110\n",
      "K:Fmaj\n",
      "V:1\n",
      "dd/2c/2 dB| GB c2|_e/2d/2B/2c/2 AG|Bc c/2B\n",
      "/2 G|F4|dd/2c/2 dB| GB c2|_e/2d/2B/2c/2 AG|Bc c/2B/2 G/2A/4F/4|G2 zG|\n",
      "w:Stel-__la splen-dens in mon-\n"
     ]
    }
   ],
   "source": [
    "count = 0\n",
    "for input_tensors, label_tensors, reset in all_loaders['train']:\n",
    "    decode_input, decode_label, decode_reset = decode_tensors(index_char, input_tensors, label_tensors, reset)\n",
    "#     print(decode_input)\n",
    "    print(decode_label)\n",
    "    if decode_reset:\n",
    "        print(\"new song started\")\n",
    "    if count > 10:\n",
    "        break\n",
    "    count += 1"
   ]
  },
  {
   "cell_type": "code",
   "execution_count": 5,
   "metadata": {},
   "outputs": [
    {
     "name": "stdout",
     "output_type": "stream",
     "text": [
      "Redirecting all prints to ./session_train_100_hiddens/log_session_train_100_hiddens.log.\n"
     ]
    }
   ],
   "source": [
    "import sys\n",
    "train_loader = all_loaders['train']\n",
    "val_loader = all_loaders['val']\n",
    "test_loader = all_loaders['test']\n",
    "\n",
    "INPUT_SIZE = len(char_index)\n",
    "HIDDEN_SIZE = 100\n",
    "OUTPUT_SIZE = len(char_index)\n",
    "\n",
    "model = BasicLSTM(INPUT_SIZE, HIDDEN_SIZE, OUTPUT_SIZE)\n",
    "criterion = nn.CrossEntropyLoss()\n",
    "optimizer = optim.SGD(model.parameters(), lr=LEARNING_RATE)\n",
    "\n",
    "# Remove old log\n",
    "nohuppath = os.path.join(PARENT_PATH_TO_SAVE_RESULT, 'nohup.out')\n",
    "if os.path.exists(nohuppath):\n",
    "    os.remove(nohuppath)\n",
    "    print(\"Removed old nohup.out\")\n",
    "\n",
    "# PRINT TO .log FILE INSTEAD\n",
    "logfilename = \"log_{0}.log\".format(SESSION_NAME)\n",
    "logsavepath = os.path.join(PARENT_PATH_TO_SAVE_RESULT, SESSION_NAME, logfilename)\n",
    "\n",
    "print(\"Redirecting all prints to {0}.\".format(logsavepath))\n",
    "\n",
    "os.makedirs(os.path.join(PARENT_PATH_TO_SAVE_RESULT, SESSION_NAME), exist_ok=True)\n",
    "log = open(logsavepath, \"w\")\n",
    "sys.stdout = log\n",
    "sys.stderr = log\n",
    "\n",
    "import datetime\n",
    "currentDT = datetime.datetime.now()\n",
    "print(\"Start time:\", currentDT.strftime(\"%Y-%m-%d %H:%M:%S\"))\n",
    "\n",
    "trainer = PA4Trainer_v2(model, criterion, optimizer, all_loaders, {\n",
    "    'path_to_save_result': PARENT_PATH_TO_SAVE_RESULT,\n",
    "    'session_name': SESSION_NAME,\n",
    "    'n_epochs': 200,\n",
    "    'print_every_n_epochs': 5,\n",
    "    'validate_every_v_epochs': 5,\n",
    "    'verbose': True,\n",
    "    'num_epochs_no_improvement_early_stop': 3,\n",
    "    'use_early_stop': True\n",
    "})\n",
    "trainer.start()"
   ]
  }
 ],
 "metadata": {
  "kernelspec": {
   "display_name": "Python 3",
   "language": "python",
   "name": "python3"
  },
  "language_info": {
   "codemirror_mode": {
    "name": "ipython",
    "version": 3
   },
   "file_extension": ".py",
   "mimetype": "text/x-python",
   "name": "python",
   "nbconvert_exporter": "python",
   "pygments_lexer": "ipython3",
   "version": "3.6.8"
  }
 },
 "nbformat": 4,
 "nbformat_minor": 2
}
