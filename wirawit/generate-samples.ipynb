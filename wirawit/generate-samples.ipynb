{
 "cells": [
  {
   "cell_type": "code",
   "execution_count": 1,
   "metadata": {},
   "outputs": [],
   "source": [
    "import torch\n",
    "import torch.nn.functional as F\n",
    "import sys\n",
    "import numpy as np\n",
    "sys.path.append('../')\n",
    "from shared.models.basic_lstm import BasicLSTM\n",
    "from shared.process.pa4_dataloader import build_all_loaders\n",
    "from shared.process.PA4Trainer import get_computing_device"
   ]
  },
  {
   "cell_type": "code",
   "execution_count": 45,
   "metadata": {},
   "outputs": [
    {
     "data": {
      "text/plain": [
       "BasicLSTM(\n",
       "  (lstm): LSTM(93, 100, batch_first=True)\n",
       "  (h2o): Linear(in_features=100, out_features=93, bias=True)\n",
       ")"
      ]
     },
     "execution_count": 45,
     "metadata": {},
     "output_type": "execute_result"
    }
   ],
   "source": [
    "computing_device = get_computing_device()\n",
    "all_loaders, infos = build_all_loaders('../pa4Data/')\n",
    "\n",
    "char2ind = infos['char_2_index']\n",
    "ind2char = infos['index_2_char']\n",
    "\n",
    "model = BasicLSTM(len(char2ind), 100, len(char2ind))\n",
    "model.load_state_dict(torch.load('./session_train_pass_hidden_between_epochs/model_state_min_val_so_far.pt', map_location='cpu'))\n",
    "model.eval()\n",
    "model.to(computing_device)"
   ]
  },
  {
   "cell_type": "code",
   "execution_count": 46,
   "metadata": {},
   "outputs": [],
   "source": [
    "prime_str = \"<start>\"\n",
    "prime_tensor = torch.zeros(len(prime_str), len(char2ind)).to(computing_device)\n",
    "        \n",
    "for i in range(len(prime_str)):\n",
    "    char = prime_str[i]\n",
    "    prime_tensor[i, char2ind[char]] = 1    "
   ]
  },
  {
   "cell_type": "markdown",
   "metadata": {},
   "source": [
    "## Sample Music"
   ]
  },
  {
   "cell_type": "code",
   "execution_count": 76,
   "metadata": {},
   "outputs": [],
   "source": [
    "# Sample from a category and starting letter\n",
    "def sample(model, T=None, max_length = 2000):\n",
    "    \n",
    "    sample_music = \"\"\n",
    "    \n",
    "    with torch.no_grad():  # no need to track history in sampling\n",
    "        model.reset_hidden(computing_device)\n",
    "        \n",
    "        # Prime with <start>, hidden state is now ready\n",
    "        logits = model(prime_tensor.unsqueeze(dim=0))[-1]\n",
    "        \n",
    "        i = 0\n",
    "        while i < max_length:\n",
    "            res_ind = None\n",
    "            if T is None:\n",
    "                res_ind = np.argmax(logits).item()\n",
    "            else:\n",
    "                prob = np.array(F.softmax(logits/T, dim=0))\n",
    "                res_ind = np.random.choice(len(char2ind), 1, p=prob)[0]\n",
    "            final_char = ind2char[res_ind]            \n",
    "            sample_music += final_char\n",
    "            i+=1\n",
    "            if i % 50 == 0:\n",
    "                print(i)\n",
    "                \n",
    "            if sample_music[-5:] == \"<end>\" or sample_music[-5:] == \"<start>\":\n",
    "                print(\"Found <end>, stop making music at i = {0}.\".format(i))\n",
    "                break\n",
    "                \n",
    "            next_char_tensor = torch.zeros(len(char2ind)).to(computing_device)\n",
    "            next_char_tensor[res_ind] = 1\n",
    "            next_char_tensor = next_char_tensor.view(1,1,-1)\n",
    "            logits = model(next_char_tensor)[-1]\n",
    "\n",
    "        return sample_music"
   ]
  },
  {
   "cell_type": "code",
   "execution_count": 77,
   "metadata": {},
   "outputs": [
    {
     "name": "stdout",
     "output_type": "stream",
     "text": [
      "30\n",
      "60\n",
      "90\n",
      "120\n",
      "150\n",
      "180\n",
      "210\n",
      "240\n",
      "270\n",
      "Found <end>, stop making music at i = 286.\n"
     ]
    }
   ],
   "source": [
    "m1 = sample(model, T=1, max_length=2_000)"
   ]
  },
  {
   "cell_type": "code",
   "execution_count": 78,
   "metadata": {},
   "outputs": [
    {
     "name": "stdout",
     "output_type": "stream",
     "text": [
      "\n",
      "X: 7DTrime GourZ:id:: 5wiol tre surolind pos the Ilen\n",
      "T:Fory ane tu Pllther Jfs an He. see cangce\n",
      "H:Whes wa dertime tog\n",
      "T:magy atl Alscim\n",
      "R:jig\n",
      "Z:id:hn-po-ka-19\n",
      "M:2/4\n",
      "L:1/8\n",
      "K:D\n",
      "DE EF|EE G2|B/c/B/G/ AF|BA AB/c/|cA BAc|Ad BA|GA c2|\n",
      "Ac d>e|cA d/g/e/f/|ed/B/ dB|1 AG/G/ GG:|2 GE D2||\n",
      "<end>\n"
     ]
    }
   ],
   "source": [
    "print(m1)"
   ]
  },
  {
   "cell_type": "code",
   "execution_count": 66,
   "metadata": {},
   "outputs": [
    {
     "data": {
      "text/plain": [
       "BasicLSTM(\n",
       "  (lstm): LSTM(10, 100, batch_first=True)\n",
       "  (h2o): Linear(in_features=100, out_features=19, bias=True)\n",
       ")"
      ]
     },
     "execution_count": 66,
     "metadata": {},
     "output_type": "execute_result"
    }
   ],
   "source": [
    "model_config = {\n",
    "    'num_input': 10,\n",
    "    'num_hidden': 100,\n",
    "    'num_output': 19,\n",
    "}\n",
    "BasicLSTM(**model_config)\n",
    "# model_config"
   ]
  },
  {
   "cell_type": "code",
   "execution_count": 58,
   "metadata": {},
   "outputs": [
    {
     "name": "stdout",
     "output_type": "stream",
     "text": [
      "30\n",
      "60\n",
      "90\n",
      "120\n",
      "150\n",
      "180\n",
      "210\n",
      "Found <end>, stop making music at i = 210.\n"
     ]
    }
   ],
   "source": [
    "m2 = sample(model, T=0.1, max_length=2_000)"
   ]
  },
  {
   "cell_type": "code",
   "execution_count": 59,
   "metadata": {},
   "outputs": [
    {
     "name": "stdout",
     "output_type": "stream",
     "text": [
      "\n",
      "X: TT\n",
      "T:Dannan Holly:\n",
      "Z:id:hn-polka-77\n",
      "M:2/4\n",
      "L:1/8\n",
      "K:D\n",
      "A>B AB|AB AB|cB AB/c/|dB AB/c/|dB AB/c/|dB AB/c/|dB AB|AB AB|1 BA GB/d/:|2 G2 GB||\n",
      "|:BA BA|BA BA|BA BA|BA BA|BA BA|BA BA|BA AB/A/|1 GE GE:|2 GE GE||\n",
      "<end>\n"
     ]
    }
   ],
   "source": [
    "print(m2)"
   ]
  },
  {
   "cell_type": "code",
   "execution_count": null,
   "metadata": {},
   "outputs": [],
   "source": []
  }
 ],
 "metadata": {
  "kernelspec": {
   "display_name": "Python 3",
   "language": "python",
   "name": "python3"
  },
  "language_info": {
   "codemirror_mode": {
    "name": "ipython",
    "version": 3
   },
   "file_extension": ".py",
   "mimetype": "text/x-python",
   "name": "python",
   "nbconvert_exporter": "python",
   "pygments_lexer": "ipython3",
   "version": "3.6.8"
  }
 },
 "nbformat": 4,
 "nbformat_minor": 2
}
