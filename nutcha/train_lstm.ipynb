{
 "cells": [
  {
   "cell_type": "code",
   "execution_count": 1,
   "metadata": {},
   "outputs": [],
   "source": [
    "import sys\n",
    "import os\n",
    "sys.path.insert(0, '../shared')\n",
    "from process.pa4_dataloader import build_all_loaders\n",
    "from models.basic_lstm import BasicLSTM\n",
    "from process.PA4Trainer import PA4Trainer"
   ]
  },
  {
   "cell_type": "code",
   "execution_count": 2,
   "metadata": {},
   "outputs": [],
   "source": [
    "import numpy as np\n",
    "import torch\n",
    "import torch.nn as nn\n",
    "import torch.optim as optim"
   ]
  },
  {
   "cell_type": "code",
   "execution_count": 3,
   "metadata": {},
   "outputs": [
    {
     "name": "stdout",
     "output_type": "stream",
     "text": [
      "Session: session_train_100_hiddens_adam\n",
      "---------------\n",
      "Loading data...\n",
      "Done.\n"
     ]
    }
   ],
   "source": [
    "SESSION_NAME = \"session_train_100_hiddens_adam\"\n",
    "PARENT_PATH_TO_SAVE_RESULT = './'\n",
    "\n",
    "print(\"Session: \" + SESSION_NAME)\n",
    "print(\"---------------\")\n",
    "\n",
    "print(\"Loading data...\")\n",
    "\n",
    "LEARNING_RATE = 0.0001\n",
    "\n",
    "all_loaders, char_index = build_all_loaders('../pa4Data/', chunk_size=100, customize_loader_params={\n",
    "    'num_workers': 4,\n",
    "})\n",
    "\n",
    "print(\"Done.\")"
   ]
  },
  {
   "cell_type": "code",
   "execution_count": 4,
   "metadata": {},
   "outputs": [],
   "source": [
    "train_loader = all_loaders['train']\n",
    "val_loader = all_loaders['val']\n",
    "test_loader = all_loaders['test']"
   ]
  },
  {
   "cell_type": "code",
   "execution_count": 5,
   "metadata": {},
   "outputs": [
    {
     "name": "stdout",
     "output_type": "stream",
     "text": [
      "Redirecting all prints to ./session_train_100_hiddens_adam/log_session_train_100_hiddens_adam.log.\n"
     ]
    }
   ],
   "source": [
    "INPUT_SIZE = len(char_index)\n",
    "HIDDEN_SIZE = 100\n",
    "OUTPUT_SIZE = len(char_index)\n",
    "\n",
    "model = BasicLSTM(INPUT_SIZE, HIDDEN_SIZE, OUTPUT_SIZE)\n",
    "criterion = nn.CrossEntropyLoss()\n",
    "optimizer = optim.Adam(model.parameters(), lr=LEARNING_RATE)\n",
    "\n",
    "# Remove old log\n",
    "nohuppath = os.path.join(PARENT_PATH_TO_SAVE_RESULT, 'nohup.out')\n",
    "if os.path.exists(nohuppath):\n",
    "    os.remove(nohuppath)\n",
    "    print(\"Removed old nohup.out\")\n",
    "\n",
    "# PRINT TO .log FILE INSTEAD\n",
    "logfilename = \"log_{0}.log\".format(SESSION_NAME)\n",
    "logsavepath = os.path.join(PARENT_PATH_TO_SAVE_RESULT, SESSION_NAME, logfilename)\n",
    "\n",
    "print(\"Redirecting all prints to {0}.\".format(logsavepath))\n",
    "\n",
    "os.makedirs(os.path.join(PARENT_PATH_TO_SAVE_RESULT, SESSION_NAME), exist_ok=True)\n",
    "log = open(logsavepath, \"w\")\n",
    "sys.stdout = log\n",
    "sys.stderr = log\n",
    "\n",
    "import datetime\n",
    "currentDT = datetime.datetime.now()\n",
    "print(\"Start time:\", currentDT.strftime(\"%Y-%m-%d %H:%M:%S\"))\n",
    "\n",
    "trainer = PA4Trainer(model, criterion, optimizer, all_loaders, {\n",
    "    'path_to_save_result': PARENT_PATH_TO_SAVE_RESULT,\n",
    "    'session_name': SESSION_NAME,\n",
    "    'n_epochs': 250,\n",
    "    'print_every_n_epochs': 5,\n",
    "    'validate_every_v_epochs': 5,\n",
    "    'verbose': True,\n",
    "    'num_epochs_no_improvement_early_stop': 6,\n",
    "    'use_early_stop': True,\n",
    "    'use_lr_scheduler': True\n",
    "})\n",
    "trainer.start()"
   ]
  },
  {
   "cell_type": "code",
   "execution_count": null,
   "metadata": {},
   "outputs": [],
   "source": []
  }
 ],
 "metadata": {
  "kernelspec": {
   "display_name": "Python 3",
   "language": "python",
   "name": "python3"
  },
  "language_info": {
   "codemirror_mode": {
    "name": "ipython",
    "version": 3
   },
   "file_extension": ".py",
   "mimetype": "text/x-python",
   "name": "python",
   "nbconvert_exporter": "python",
   "pygments_lexer": "ipython3",
   "version": "3.6.8"
  }
 },
 "nbformat": 4,
 "nbformat_minor": 2
}
