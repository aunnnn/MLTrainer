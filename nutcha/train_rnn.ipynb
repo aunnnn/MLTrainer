{
 "cells": [
  {
   "cell_type": "code",
   "execution_count": 1,
   "metadata": {},
   "outputs": [],
   "source": [
    "import sys\n",
    "import os\n",
    "sys.path.insert(0, '../shared')\n",
    "from process.pa4_dataloader import build_all_loaders\n",
    "from models.vanilla_rnn import VanillaRNN\n",
    "from process.PA4Trainer import PA4Trainer"
   ]
  },
  {
   "cell_type": "code",
   "execution_count": 2,
   "metadata": {},
   "outputs": [],
   "source": [
    "import numpy as np\n",
    "import torch\n",
    "import torch.nn as nn\n",
    "import torch.optim as optim"
   ]
  },
  {
   "cell_type": "code",
   "execution_count": 3,
   "metadata": {},
   "outputs": [
    {
     "name": "stdout",
     "output_type": "stream",
     "text": [
      "Session: session_train_100_hiddens_rnn\n",
      "---------------\n",
      "Loading data...\n",
      "Done.\n"
     ]
    }
   ],
   "source": [
    "SESSION_NAME = \"session_train_100_hiddens_rnn\"\n",
    "PARENT_PATH_TO_SAVE_RESULT = './'\n",
    "\n",
    "print(\"Session: \" + SESSION_NAME)\n",
    "print(\"---------------\")\n",
    "\n",
    "print(\"Loading data...\")\n",
    "\n",
    "LEARNING_RATE = 0.01\n",
    "\n",
    "all_loaders, char_index = build_all_loaders('../pa4Data/', chunk_size=100, customize_loader_params={\n",
    "    'num_workers': 4,\n",
    "})\n",
    "\n",
    "print(\"Done.\")"
   ]
  },
  {
   "cell_type": "code",
   "execution_count": 4,
   "metadata": {},
   "outputs": [],
   "source": [
    "train_loader = all_loaders['train']\n",
    "val_loader = all_loaders['val']\n",
    "test_loader = all_loaders['test']"
   ]
  },
  {
   "cell_type": "code",
   "execution_count": 5,
   "metadata": {},
   "outputs": [
    {
     "data": {
      "text/plain": [
       "93"
      ]
     },
     "execution_count": 5,
     "metadata": {},
     "output_type": "execute_result"
    }
   ],
   "source": [
    "len(char_index)"
   ]
  },
  {
   "cell_type": "code",
   "execution_count": 6,
   "metadata": {},
   "outputs": [
    {
     "name": "stdout",
     "output_type": "stream",
     "text": [
      "Redirecting all prints to ./session_train_100_hiddens_rnn/log_session_train_100_hiddens_rnn.log.\n",
      "Start time: 2019-02-26 03:46:58\n"
     ]
    }
   ],
   "source": [
    "INPUT_SIZE = len(char_index)\n",
    "HIDDEN_SIZE = 100\n",
    "OUTPUT_SIZE = len(char_index)\n",
    "\n",
    "model = VanillaRNN(INPUT_SIZE, HIDDEN_SIZE, OUTPUT_SIZE, torch.device(\"cuda\"))\n",
    "criterion = nn.CrossEntropyLoss()\n",
    "optimizer = optim.SGD(model.parameters(), lr=LEARNING_RATE)\n",
    "\n",
    "# Remove old log\n",
    "nohuppath = os.path.join(PARENT_PATH_TO_SAVE_RESULT, 'nohup.out')\n",
    "if os.path.exists(nohuppath):\n",
    "    os.remove(nohuppath)\n",
    "    print(\"Removed old nohup.out\")\n",
    "\n",
    "# PRINT TO .log FILE INSTEAD\n",
    "logfilename = \"log_{0}.log\".format(SESSION_NAME)\n",
    "logsavepath = os.path.join(PARENT_PATH_TO_SAVE_RESULT, SESSION_NAME, logfilename)\n",
    "\n",
    "print(\"Redirecting all prints to {0}.\".format(logsavepath))\n",
    "\n",
    "import datetime\n",
    "currentDT = datetime.datetime.now()\n",
    "print(\"Start time:\", currentDT.strftime(\"%Y-%m-%d %H:%M:%S\"))\n"
   ]
  },
  {
   "cell_type": "code",
   "execution_count": 7,
   "metadata": {},
   "outputs": [
    {
     "name": "stdout",
     "output_type": "stream",
     "text": [
      "Coverted model to device: cuda\n",
      "-----------\n",
      "Trainer Config:\n",
      "{   'criterion': 'CrossEntropyLoss()',\n",
      "    'model': 'VanillaRNN(\\n'\n",
      "             '  (i2h): Linear(in_features=193, out_features=100, bias=True)\\n'\n",
      "             '  (h2o): Linear(in_features=100, out_features=93, bias=True)\\n'\n",
      "             '  (tanh): Tanh()\\n'\n",
      "             ')',\n",
      "    'n_epochs': 100,\n",
      "    'num_epochs_no_improvement_early_stop': 3,\n",
      "    'optimizer': 'SGD (\\n'\n",
      "                 'Parameter Group 0\\n'\n",
      "                 '    dampening: 0\\n'\n",
      "                 '    lr: 0.01\\n'\n",
      "                 '    momentum: 0\\n'\n",
      "                 '    nesterov: False\\n'\n",
      "                 '    weight_decay: 0\\n'\n",
      "                 ')',\n",
      "    'path_to_save_result': './',\n",
      "    'print_every_n_epochs': 5,\n",
      "    'session_name': 'session_train_100_hiddens_rnn',\n",
      "    'use_early_stop': True,\n",
      "    'validate_every_v_epochs': 5,\n",
      "    'verbose': True}\n",
      "-----------\n",
      "Start training...\n",
      "Epoch 0, validation loss: 3.6168417061699762\n",
      "Epoch 0, 0% (0m 8s) train loss: 3.577974\n",
      "Epoch 5, validation loss: 3.2671942806243894\n",
      "Epoch 5, 5% (0m 44s) train loss: 3.112508\n",
      "Epoch 10, validation loss: 3.0947659556070963\n",
      "Epoch 10, 10% (1m 21s) train loss: 2.892951\n",
      "Epoch 15, validation loss: 3.024621046207569\n",
      "Epoch 15, 15% (1m 59s) train loss: 2.804310\n",
      "Epoch 20, validation loss: 2.990780882305569\n",
      "Epoch 20, 20% (2m 35s) train loss: 2.754887\n",
      "Epoch 25, validation loss: 2.972226282402321\n",
      "Epoch 25, 25% (3m 12s) train loss: 2.721579\n",
      "Epoch 30, validation loss: 2.9616084702809653\n",
      "Epoch 30, 30% (3m 47s) train loss: 2.697120\n",
      "Epoch 35, validation loss: 2.955680471702858\n",
      "Epoch 35, 35% (4m 21s) train loss: 2.678261\n",
      "Epoch 40, validation loss: 2.9525811672210693\n",
      "Epoch 40, 40% (4m 57s) train loss: 2.663080\n",
      "Epoch 45, validation loss: 2.9512448653468377\n",
      "Epoch 45, 45% (5m 33s) train loss: 2.650364\n",
      "Epoch 50, validation loss: 2.951016805436876\n",
      "Epoch 50, 50% (6m 8s) train loss: 2.639385\n",
      "Epoch 55, validation loss: 2.951382288756194\n",
      "Validation loss increased for 1 epochs...\n",
      "Epoch 55, 55% (6m 44s) train loss: 2.629707\n",
      "Epoch 60, validation loss: 2.9518923279091163\n",
      "Validation loss increased for 2 epochs...\n",
      "Epoch 60, 60% (7m 19s) train loss: 2.621030\n",
      "Epoch 65, validation loss: 2.9522508617683694\n",
      "Validation loss increased for 3 epochs...\n",
      "Stop training as validation loss increases for 3 epochs.\n",
      "-----------\n",
      "Saving result...\n",
      "-> model saved.\n",
      "-> report saved.\n",
      "-> misc.json saved.\n",
      "Done successfully!\n",
      "---------------------\n"
     ]
    }
   ],
   "source": [
    "trainer = PA4Trainer(model, criterion, optimizer, all_loaders, {\n",
    "    'path_to_save_result': PARENT_PATH_TO_SAVE_RESULT,\n",
    "    'session_name': SESSION_NAME,\n",
    "    'n_epochs': 100,\n",
    "    'print_every_n_epochs': 5,\n",
    "    'validate_every_v_epochs': 5,\n",
    "    'verbose': True,\n",
    "    'num_epochs_no_improvement_early_stop': 3,\n",
    "    'use_early_stop': True\n",
    "})\n",
    "trainer.start()"
   ]
  },
  {
   "cell_type": "code",
   "execution_count": null,
   "metadata": {},
   "outputs": [],
   "source": []
  }
 ],
 "metadata": {
  "kernelspec": {
   "display_name": "Python 3",
   "language": "python",
   "name": "python3"
  },
  "language_info": {
   "codemirror_mode": {
    "name": "ipython",
    "version": 3
   },
   "file_extension": ".py",
   "mimetype": "text/x-python",
   "name": "python",
   "nbconvert_exporter": "python",
   "pygments_lexer": "ipython3",
   "version": "3.6.8"
  }
 },
 "nbformat": 4,
 "nbformat_minor": 2
}
