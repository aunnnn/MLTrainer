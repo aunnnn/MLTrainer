{
 "cells": [
  {
   "cell_type": "code",
   "execution_count": 1,
   "metadata": {},
   "outputs": [],
   "source": [
    "import sys\n",
    "import os\n",
    "sys.path.insert(0, '../shared')\n",
    "from process.pa4_dataloader import build_all_loaders\n",
    "from models.vanilla_rnn import VanillaRNN\n",
    "from process.PA4Trainer import PA4Trainer"
   ]
  },
  {
   "cell_type": "code",
   "execution_count": 2,
   "metadata": {},
   "outputs": [],
   "source": [
    "import numpy as np\n",
    "import torch\n",
    "import torch.nn as nn\n",
    "import torch.optim as optim"
   ]
  },
  {
   "cell_type": "code",
   "execution_count": 3,
   "metadata": {},
   "outputs": [
    {
     "name": "stdout",
     "output_type": "stream",
     "text": [
      "Session: session_train_100_hiddens_rnn_adam\n",
      "---------------\n",
      "Loading data...\n",
      "Done.\n"
     ]
    }
   ],
   "source": [
    "SESSION_NAME = \"session_train_100_hiddens_rnn_adam\"\n",
    "PARENT_PATH_TO_SAVE_RESULT = './'\n",
    "\n",
    "print(\"Session: \" + SESSION_NAME)\n",
    "print(\"---------------\")\n",
    "\n",
    "print(\"Loading data...\")\n",
    "\n",
    "LEARNING_RATE = 0.0001\n",
    "\n",
    "all_loaders, char_index = build_all_loaders('../pa4Data/', chunk_size=100, customize_loader_params={\n",
    "    'num_workers': 4,\n",
    "})\n",
    "\n",
    "print(\"Done.\")"
   ]
  },
  {
   "cell_type": "code",
   "execution_count": 4,
   "metadata": {},
   "outputs": [],
   "source": [
    "train_loader = all_loaders['train']\n",
    "val_loader = all_loaders['val']\n",
    "test_loader = all_loaders['test']"
   ]
  },
  {
   "cell_type": "code",
   "execution_count": null,
   "metadata": {},
   "outputs": [
    {
     "data": {
      "text/plain": [
       "93"
      ]
     },
     "execution_count": 5,
     "metadata": {},
     "output_type": "execute_result"
    }
   ],
   "source": [
    "len(char_index)"
   ]
  },
  {
   "cell_type": "code",
   "execution_count": null,
   "metadata": {},
   "outputs": [
    {
     "name": "stdout",
     "output_type": "stream",
     "text": [
      "Redirecting all prints to ./session_train_100_hiddens_rnn_adam/log_session_train_100_hiddens_rnn_adam.log.\n",
      "Start time: 2019-02-27 14:56:53\n"
     ]
    }
   ],
   "source": [
    "INPUT_SIZE = len(char_index)\n",
    "HIDDEN_SIZE = 100\n",
    "OUTPUT_SIZE = len(char_index)\n",
    "\n",
    "model = VanillaRNN(INPUT_SIZE, HIDDEN_SIZE, OUTPUT_SIZE, torch.device(\"cuda\"))\n",
    "criterion = nn.CrossEntropyLoss()\n",
    "optimizer = optim.Adam(model.parameters(), lr=LEARNING_RATE)\n",
    "\n",
    "# Remove old log\n",
    "nohuppath = os.path.join(PARENT_PATH_TO_SAVE_RESULT, 'nohup.out')\n",
    "if os.path.exists(nohuppath):\n",
    "    os.remove(nohuppath)\n",
    "    print(\"Removed old nohup.out\")\n",
    "\n",
    "# PRINT TO .log FILE INSTEAD\n",
    "logfilename = \"log_{0}.log\".format(SESSION_NAME)\n",
    "logsavepath = os.path.join(PARENT_PATH_TO_SAVE_RESULT, SESSION_NAME, logfilename)\n",
    "\n",
    "print(\"Redirecting all prints to {0}.\".format(logsavepath))\n",
    "\n",
    "import datetime\n",
    "currentDT = datetime.datetime.now()\n",
    "print(\"Start time:\", currentDT.strftime(\"%Y-%m-%d %H:%M:%S\"))\n"
   ]
  },
  {
   "cell_type": "code",
   "execution_count": null,
   "metadata": {},
   "outputs": [
    {
     "name": "stdout",
     "output_type": "stream",
     "text": [
      "Coverted model to device: cuda\n",
      "-----------\n",
      "Trainer Config:\n",
      "{   'criterion': 'CrossEntropyLoss()',\n",
      "    'model': 'VanillaRNN(\\n'\n",
      "             '  (i2h): Linear(in_features=193, out_features=100, bias=True)\\n'\n",
      "             '  (h2o): Linear(in_features=100, out_features=93, bias=True)\\n'\n",
      "             '  (tanh): Tanh()\\n'\n",
      "             ')',\n",
      "    'n_epochs': 250,\n",
      "    'num_epochs_no_improvement_early_stop': 6,\n",
      "    'optimizer': 'Adam (\\n'\n",
      "                 'Parameter Group 0\\n'\n",
      "                 '    amsgrad: False\\n'\n",
      "                 '    betas: (0.9, 0.999)\\n'\n",
      "                 '    eps: 1e-08\\n'\n",
      "                 '    lr: 0.0001\\n'\n",
      "                 '    weight_decay: 0\\n'\n",
      "                 ')',\n",
      "    'path_to_save_result': './',\n",
      "    'print_every_n_epochs': 5,\n",
      "    'session_name': 'session_train_100_hiddens_rnn_adam',\n",
      "    'use_early_stop': True,\n",
      "    'use_lr_scheduler': True,\n",
      "    'validate_every_v_epochs': 5,\n",
      "    'verbose': True}\n",
      "-----------\n",
      "Start training...\n",
      "Epoch 0, validation loss: 3.4152222887674966\n",
      "Epoch 0, 0% (0m 13s) train loss: 3.502024\n",
      "Epoch 5, validation loss: 2.948096319127966\n",
      "Epoch 5, 2% (0m 59s) train loss: 2.763179\n",
      "Epoch 10, validation loss: 2.9097275380735046\n",
      "Epoch 10, 4% (1m 45s) train loss: 2.698479\n",
      "Epoch 15, validation loss: 2.8952688870606598\n",
      "Epoch 15, 6% (2m 32s) train loss: 2.671338\n",
      "Epoch 20, validation loss: 2.888051693174574\n",
      "Epoch 20, 8% (3m 18s) train loss: 2.653853\n",
      "Epoch 25, validation loss: 2.884290054462574\n",
      "Epoch 25, 10% (4m 3s) train loss: 2.641043\n",
      "Epoch 30, validation loss: 2.882254466304073\n",
      "Epoch 30, 12% (4m 52s) train loss: 2.630727\n"
     ]
    }
   ],
   "source": [
    "trainer = PA4Trainer(model, criterion, optimizer, all_loaders, {\n",
    "    'path_to_save_result': PARENT_PATH_TO_SAVE_RESULT,\n",
    "    'session_name': SESSION_NAME,\n",
    "    'n_epochs': 250,\n",
    "    'print_every_n_epochs': 5,\n",
    "    'validate_every_v_epochs': 5,\n",
    "    'verbose': True,\n",
    "    'num_epochs_no_improvement_early_stop': 6,\n",
    "    'use_early_stop': True,\n",
    "    'use_lr_scheduler': True\n",
    "})\n",
    "trainer.start()"
   ]
  },
  {
   "cell_type": "code",
   "execution_count": null,
   "metadata": {},
   "outputs": [],
   "source": []
  }
 ],
 "metadata": {
  "kernelspec": {
   "display_name": "Python 3",
   "language": "python",
   "name": "python3"
  },
  "language_info": {
   "codemirror_mode": {
    "name": "ipython",
    "version": 3
   },
   "file_extension": ".py",
   "mimetype": "text/x-python",
   "name": "python",
   "nbconvert_exporter": "python",
   "pygments_lexer": "ipython3",
   "version": "3.6.8"
  }
 },
 "nbformat": 4,
 "nbformat_minor": 2
}
