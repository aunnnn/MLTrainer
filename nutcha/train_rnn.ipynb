{
 "cells": [
  {
   "cell_type": "code",
   "execution_count": 8,
   "metadata": {},
   "outputs": [],
   "source": [
    "import sys\n",
    "import os\n",
    "sys.path.insert(0, '../shared')\n",
    "from process.pa4_dataloader import build_all_loaders\n",
    "from models.vanilla_rnn import VanillaRNN\n",
    "from process.PA4Trainer import PA4Trainer"
   ]
  },
  {
   "cell_type": "code",
   "execution_count": 9,
   "metadata": {},
   "outputs": [],
   "source": [
    "import numpy as np\n",
    "import torch\n",
    "import torch.nn as nn\n",
    "import torch.optim as optim"
   ]
  },
  {
   "cell_type": "code",
   "execution_count": 10,
   "metadata": {},
   "outputs": [
    {
     "name": "stdout",
     "output_type": "stream",
     "text": [
      "Session: session_train_100_hiddens_rnn\n",
      "---------------\n",
      "Loading data...\n",
      "Done.\n"
     ]
    }
   ],
   "source": [
    "SESSION_NAME = \"session_train_100_hiddens_rnn\"\n",
    "PARENT_PATH_TO_SAVE_RESULT = './'\n",
    "\n",
    "print(\"Session: \" + SESSION_NAME)\n",
    "print(\"---------------\")\n",
    "\n",
    "print(\"Loading data...\")\n",
    "\n",
    "LEARNING_RATE = 0.01\n",
    "\n",
    "all_loaders, char_index = build_all_loaders('../pa4Data/', chunk_size=100, customize_loader_params={\n",
    "    'num_workers': 4,\n",
    "})\n",
    "\n",
    "print(\"Done.\")"
   ]
  },
  {
   "cell_type": "code",
   "execution_count": 11,
   "metadata": {},
   "outputs": [],
   "source": [
    "train_loader = all_loaders['train']\n",
    "val_loader = all_loaders['val']\n",
    "test_loader = all_loaders['test']"
   ]
  },
  {
   "cell_type": "code",
   "execution_count": 12,
   "metadata": {},
   "outputs": [
    {
     "data": {
      "text/plain": [
       "93"
      ]
     },
     "execution_count": 12,
     "metadata": {},
     "output_type": "execute_result"
    }
   ],
   "source": [
    "len(char_index)"
   ]
  },
  {
   "cell_type": "code",
   "execution_count": 13,
   "metadata": {},
   "outputs": [
    {
     "name": "stdout",
     "output_type": "stream",
     "text": [
      "Redirecting all prints to ./session_train_100_hiddens_rnn/log_session_train_100_hiddens_rnn.log.\n",
      "Start time: 2019-02-26 16:35:23\n"
     ]
    }
   ],
   "source": [
    "INPUT_SIZE = len(char_index)\n",
    "HIDDEN_SIZE = 100\n",
    "OUTPUT_SIZE = len(char_index)\n",
    "\n",
    "model = VanillaRNN(INPUT_SIZE, HIDDEN_SIZE, OUTPUT_SIZE, torch.device(\"cuda\"))\n",
    "criterion = nn.CrossEntropyLoss()\n",
    "optimizer = optim.SGD(model.parameters(), lr=LEARNING_RATE)\n",
    "\n",
    "# Remove old log\n",
    "nohuppath = os.path.join(PARENT_PATH_TO_SAVE_RESULT, 'nohup.out')\n",
    "if os.path.exists(nohuppath):\n",
    "    os.remove(nohuppath)\n",
    "    print(\"Removed old nohup.out\")\n",
    "\n",
    "# PRINT TO .log FILE INSTEAD\n",
    "logfilename = \"log_{0}.log\".format(SESSION_NAME)\n",
    "logsavepath = os.path.join(PARENT_PATH_TO_SAVE_RESULT, SESSION_NAME, logfilename)\n",
    "\n",
    "print(\"Redirecting all prints to {0}.\".format(logsavepath))\n",
    "\n",
    "import datetime\n",
    "currentDT = datetime.datetime.now()\n",
    "print(\"Start time:\", currentDT.strftime(\"%Y-%m-%d %H:%M:%S\"))\n"
   ]
  },
  {
   "cell_type": "code",
   "execution_count": 14,
   "metadata": {},
   "outputs": [
    {
     "name": "stdout",
     "output_type": "stream",
     "text": [
      "Coverted model to device: cuda\n",
      "-----------\n",
      "Trainer Config:\n",
      "{   'criterion': 'CrossEntropyLoss()',\n",
      "    'model': 'VanillaRNN(\\n'\n",
      "             '  (i2h): Linear(in_features=193, out_features=100, bias=True)\\n'\n",
      "             '  (h2o): Linear(in_features=100, out_features=93, bias=True)\\n'\n",
      "             '  (tanh): Tanh()\\n'\n",
      "             ')',\n",
      "    'n_epochs': 100,\n",
      "    'num_epochs_no_improvement_early_stop': 5,\n",
      "    'optimizer': 'SGD (\\n'\n",
      "                 'Parameter Group 0\\n'\n",
      "                 '    dampening: 0\\n'\n",
      "                 '    lr: 0.01\\n'\n",
      "                 '    momentum: 0\\n'\n",
      "                 '    nesterov: False\\n'\n",
      "                 '    weight_decay: 0\\n'\n",
      "                 ')',\n",
      "    'path_to_save_result': './',\n",
      "    'print_every_n_epochs': 5,\n",
      "    'session_name': 'session_train_100_hiddens_rnn',\n",
      "    'use_early_stop': True,\n",
      "    'use_lr_scheduler': True,\n",
      "    'validate_every_v_epochs': 5,\n",
      "    'verbose': True}\n",
      "-----------\n",
      "Start training...\n",
      "Epoch 0, validation loss: 3.6043119292789036\n",
      "Epoch 0, 0% (0m 11s) train loss: 3.590077\n",
      "Epoch 5, validation loss: 3.2564086642088714\n",
      "Epoch 5, 5% (1m 3s) train loss: 3.111678\n",
      "Epoch 10, validation loss: 3.086264079765037\n",
      "Epoch 10, 10% (1m 55s) train loss: 2.895554\n",
      "Epoch 15, validation loss: 3.019009744856093\n",
      "Epoch 15, 15% (2m 46s) train loss: 2.806922\n",
      "Epoch 20, validation loss: 2.985742287459197\n",
      "Epoch 20, 20% (3m 38s) train loss: 2.756793\n",
      "Epoch 25, validation loss: 2.9672547414567734\n",
      "Epoch 25, 25% (4m 29s) train loss: 2.723345\n",
      "Epoch 30, validation loss: 2.956612633952388\n",
      "Epoch 30, 30% (5m 21s) train loss: 2.698561\n",
      "Epoch 35, validation loss: 2.9501644819754143\n",
      "Epoch 35, 35% (6m 13s) train loss: 2.678962\n",
      "Epoch 40, validation loss: 2.945637019828514\n",
      "Epoch 40, 40% (7m 4s) train loss: 2.662926\n",
      "Epoch 45, validation loss: 2.9420319514804416\n",
      "Epoch 45, 45% (7m 57s) train loss: 2.649457\n",
      "Epoch 50, validation loss: 2.939160552907873\n",
      "Epoch 50, 50% (8m 49s) train loss: 2.637827\n",
      "Epoch 55, validation loss: 2.9371458396205194\n",
      "Epoch 55, 55% (9m 39s) train loss: 2.627559\n",
      "Epoch 60, validation loss: 2.9360041480594212\n",
      "Epoch 60, 60% (10m 31s) train loss: 2.618388\n",
      "Epoch 65, validation loss: 2.9355555195278593\n",
      "Epoch 65, 65% (11m 23s) train loss: 2.610164\n",
      "Epoch 70, validation loss: 2.9355708026885985\n",
      "Validation loss increased for 1 epochs...\n",
      "Epoch 70, 70% (12m 15s) train loss: 2.602771\n",
      "Epoch 75, validation loss: 2.9358940979286476\n",
      "Validation loss increased for 2 epochs...\n",
      "Epoch 75, 75% (13m 5s) train loss: 2.596101\n",
      "Epoch 80, validation loss: 2.9364514372083876\n",
      "Validation loss increased for 3 epochs...\n",
      "Epoch 80, 80% (13m 56s) train loss: 2.590052\n",
      "Epoch 85, validation loss: 2.9372042617091427\n",
      "Validation loss increased for 4 epochs...\n",
      "Epoch 85, 85% (14m 45s) train loss: 2.584536\n",
      "Epoch    18: reducing learning rate of group 0 to 1.0000e-03.\n",
      "Epoch 90, validation loss: 2.9381156222025555\n",
      "Validation loss increased for 5 epochs...\n",
      "Stop training as validation loss increases for 5 epochs.\n",
      "-----------\n",
      "Saving result...\n",
      "-> model saved.\n",
      "-> report saved.\n",
      "-> misc.json saved.\n",
      "Done successfully!\n",
      "---------------------\n"
     ]
    }
   ],
   "source": [
    "trainer = PA4Trainer(model, criterion, optimizer, all_loaders, {\n",
    "    'path_to_save_result': PARENT_PATH_TO_SAVE_RESULT,\n",
    "    'session_name': SESSION_NAME,\n",
    "    'n_epochs': 100,\n",
    "    'print_every_n_epochs': 5,\n",
    "    'validate_every_v_epochs': 5,\n",
    "    'verbose': True,\n",
    "    'num_epochs_no_improvement_early_stop': 5,\n",
    "    'use_early_stop': True,\n",
    "    'use_lr_scheduler': True\n",
    "})\n",
    "trainer.start()"
   ]
  },
  {
   "cell_type": "code",
   "execution_count": null,
   "metadata": {},
   "outputs": [],
   "source": []
  }
 ],
 "metadata": {
  "kernelspec": {
   "display_name": "Python 3",
   "language": "python",
   "name": "python3"
  },
  "language_info": {
   "codemirror_mode": {
    "name": "ipython",
    "version": 3
   },
   "file_extension": ".py",
   "mimetype": "text/x-python",
   "name": "python",
   "nbconvert_exporter": "python",
   "pygments_lexer": "ipython3",
   "version": "3.6.8"
  }
 },
 "nbformat": 4,
 "nbformat_minor": 2
}
